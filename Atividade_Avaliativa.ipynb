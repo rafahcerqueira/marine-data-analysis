{
  "nbformat": 4,
  "nbformat_minor": 0,
  "metadata": {
    "colab": {
      "provenance": [],
      "include_colab_link": true
    },
    "kernelspec": {
      "name": "python3",
      "display_name": "Python 3"
    },
    "language_info": {
      "name": "python"
    }
  },
  "cells": [
    {
      "cell_type": "markdown",
      "metadata": {
        "id": "view-in-github",
        "colab_type": "text"
      },
      "source": [
        "<a href=\"https://colab.research.google.com/github/rafahcerqueira/marine-data-analysis/blob/main/Atividade_Avaliativa.ipynb\" target=\"_parent\"><img src=\"https://colab.research.google.com/assets/colab-badge.svg\" alt=\"Open In Colab\"/></a>"
      ]
    },
    {
      "cell_type": "code",
      "execution_count": null,
      "metadata": {
        "id": "XTLGvu5s2rnE"
      },
      "outputs": [],
      "source": [
        "import pandas as pd\n",
        "import numpy as np\n",
        "import math\n",
        "from IPython.display import Markdown, display"
      ]
    },
    {
      "cell_type": "code",
      "source": [
        "from google.colab import drive\n",
        "drive.mount('/content/drive')\n",
        "\n",
        "path = \"/content/drive/MyDrive/Faculdade ADS/6° Semestre/Análise de Dados/Colab Notebooks/Trabalho Inferências\""
      ],
      "metadata": {
        "colab": {
          "base_uri": "https://localhost:8080/"
        },
        "id": "5t9as-aH2z2o",
        "outputId": "fbc81586-6735-4472-c2a6-374113c34e74"
      },
      "execution_count": null,
      "outputs": [
        {
          "output_type": "stream",
          "name": "stdout",
          "text": [
            "Mounted at /content/drive\n"
          ]
        }
      ]
    },
    {
      "cell_type": "code",
      "source": [
        "dados = pd.read_csv(path + '/age_dataset.csv', sep=',')"
      ],
      "metadata": {
        "id": "tB6-aXEx3GTn"
      },
      "execution_count": null,
      "outputs": []
    },
    {
      "cell_type": "markdown",
      "source": [
        "## Limpeza de incongruências"
      ],
      "metadata": {
        "id": "AVzbpPv7vYXZ"
      }
    },
    {
      "cell_type": "code",
      "source": [
        "df_selection = dados[['Occupation', 'Manner of death', 'Age of death']]\n",
        "\n",
        "incongruity_len = len(\n",
        "    df_selection[\n",
        "        (df_selection['Manner of death'] == 'capital punishment; suicide') |\n",
        "        (df_selection['Manner of death'] == 'homicide; natural causes') |\n",
        "        (df_selection['Manner of death'] == 'capital punishment; homicide') |\n",
        "        (df_selection['Manner of death'] == 'suicide; natural causes')\n",
        "      ]\n",
        "    )\n",
        "\n",
        "death_types_undefined_len = df_selection['Manner of death'].isna().sum()\n",
        "\n",
        "print(f\"Incongruências: {incongruity_len}\")\n",
        "print(f\"Não definido: {death_types_undefined_len}\")"
      ],
      "metadata": {
        "colab": {
          "base_uri": "https://localhost:8080/"
        },
        "id": "iX9QRXOOvdJL",
        "outputId": "6a6dd8d8-db6b-4cf6-8be5-87a72b090146"
      },
      "execution_count": null,
      "outputs": [
        {
          "output_type": "stream",
          "name": "stdout",
          "text": [
            "Incongruências: 92\n",
            "Não definido: 1169406\n"
          ]
        }
      ]
    },
    {
      "cell_type": "markdown",
      "source": [
        "## Limpeza de idade da morte"
      ],
      "metadata": {
        "id": "O9BAnNXhttsl"
      }
    },
    {
      "cell_type": "code",
      "source": [
        "# Número de registros antes da limpeza\n",
        "antes_limpeza_oficial_marinha = len(dados[dados['Occupation'] == 'Naval officer'])\n",
        "antes_limpeza_marinheiro = len(dados[dados['Occupation'] == 'Sailor'])\n",
        "\n",
        "# Filtrando os dados onde 'Age of death' não é nulo\n",
        "oficial_marinha = dados[(dados['Occupation'] == 'Naval officer') & (dados['Age of death'].notna())]\n",
        "marinheiro = dados[(dados['Occupation'] == 'Sailor') & (dados['Age of death'].notna())]\n",
        "\n",
        "# Número de registros após a limpeza\n",
        "depois_limpeza_oficial_marinha = len(oficial_marinha)\n",
        "depois_limpeza_marinheiro = len(marinheiro)\n",
        "\n",
        "# Exibindo os resultados\n",
        "print(f\"Antes da limpeza (Naval officer): {antes_limpeza_oficial_marinha} registros\")\n",
        "print(f\"Depois da limpeza (Naval officer): {depois_limpeza_oficial_marinha} registros\")\n",
        "print(f\"Registros removidos (Naval officer): {antes_limpeza_oficial_marinha - depois_limpeza_oficial_marinha}\")\n",
        "\n",
        "print(f\"Antes da limpeza (Sailor): {antes_limpeza_marinheiro} registros\")\n",
        "print(f\"Depois da limpeza (Sailor): {depois_limpeza_marinheiro} registros\")\n",
        "print(f\"Registros removidos (Sailor): {antes_limpeza_marinheiro - depois_limpeza_marinheiro}\")\n"
      ],
      "metadata": {
        "colab": {
          "base_uri": "https://localhost:8080/"
        },
        "id": "8AO3XAFDtwhl",
        "outputId": "dabee5d6-6cf9-4605-d9db-4f2911a916f8"
      },
      "execution_count": null,
      "outputs": [
        {
          "output_type": "stream",
          "name": "stdout",
          "text": [
            "Antes da limpeza (Naval officer): 948 registros\n",
            "Depois da limpeza (Naval officer): 948 registros\n",
            "Registros removidos (Naval officer): 0\n",
            "Antes da limpeza (Sailor): 793 registros\n",
            "Depois da limpeza (Sailor): 793 registros\n",
            "Registros removidos (Sailor): 0\n",
            "Número de valores nulos em 'Age of death' (Naval officer): 0\n",
            "Número de valores nulos em 'Age of death' (Sailor): 0\n"
          ]
        }
      ]
    },
    {
      "cell_type": "markdown",
      "source": [
        "### Criação de Histograma para facilitar a visualização dos resultados para Marinheiro e Oficial da Marinha"
      ],
      "metadata": {
        "id": "MLxRuPg_l4vY"
      }
    },
    {
      "cell_type": "code",
      "source": [
        "# Estatísticas descritivas\n",
        "descricao_oficial = oficial_marinha['Age of death'].describe()\n",
        "descricao_marinheiro = marinheiro['Age of death'].describe()\n",
        "\n",
        "# Exibindo os resultados\n",
        "print(\"Estatísticas descritivas (Naval Officer):\")\n",
        "print(descricao_oficial)\n",
        "print(\"\\nEstatísticas descritivas (Sailor):\")\n",
        "print(descricao_marinheiro)\n",
        "\n",
        "# Criando os histogramas com Pandas\n",
        "fig, ax = plt.subplots(figsize=(12, 6))\n",
        "\n",
        "oficial_marinha['Age of death'].plot.hist(\n",
        "    ax=ax,\n",
        "    bins=20,\n",
        "    alpha=0.7,\n",
        "    label='Naval officer',\n",
        "    color='blue',\n",
        "    edgecolor='black',\n",
        "    xlabel='Age of death',\n",
        "    ylabel='Frequency'\n",
        ")\n",
        "\n",
        "marinheiro['Age of death'].plot.hist(\n",
        "    ax=ax,\n",
        "    bins=20,\n",
        "    alpha=0.7,\n",
        "    label='Sailor',\n",
        "    color='orange',\n",
        "    edgecolor='black',\n",
        "    xlabel='Age of death',\n",
        "    ylabel='Frequency'\n",
        ")\n",
        "\n",
        "ax.set_title('Age of Death Comparison - Naval Officers vs. Sailors')\n",
        "ax.legend()\n",
        "plt.show()\n"
      ],
      "metadata": {
        "colab": {
          "base_uri": "https://localhost:8080/",
          "height": 929
        },
        "id": "oFzjsVuKmBRw",
        "outputId": "c05f45eb-02f8-45d9-bd2c-1cd4614d4748"
      },
      "execution_count": null,
      "outputs": [
        {
          "output_type": "stream",
          "name": "stdout",
          "text": [
            "Estatísticas descritivas (Naval Officer):\n",
            "count    948.000000\n",
            "mean      73.175105\n",
            "std       12.857144\n",
            "min       25.000000\n",
            "25%       65.000000\n",
            "50%       75.000000\n",
            "75%       82.000000\n",
            "max       99.000000\n",
            "Name: Age of death, dtype: float64\n",
            "\n",
            "Estatísticas descritivas (Sailor):\n",
            "count    793.000000\n",
            "mean      68.211854\n",
            "std       18.866771\n",
            "min       19.000000\n",
            "25%       58.000000\n",
            "50%       72.000000\n",
            "75%       82.000000\n",
            "max       99.000000\n",
            "Name: Age of death, dtype: float64\n"
          ]
        },
        {
          "output_type": "display_data",
          "data": {
            "text/plain": [
              "<Figure size 1200x600 with 1 Axes>"
            ],
            "image/png": "[encoded data removed]"
          },
          "metadata": {}
        }
      ]
    }
  ]
}